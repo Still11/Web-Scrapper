{
 "cells": [
  {
   "cell_type": "code",
   "execution_count": 1,
   "metadata": {},
   "outputs": [],
   "source": [
    "from urllib.request import urlopen as urlReq"
   ]
  },
  {
   "cell_type": "code",
   "execution_count": 2,
   "metadata": {},
   "outputs": [],
   "source": [
    "from bs4 import BeautifulSoup as soup"
   ]
  },
  {
   "cell_type": "code",
   "execution_count": 3,
   "metadata": {},
   "outputs": [],
   "source": [
    "my_url = 'https://www.newegg.com/p/pl?d=graphics&SrchInDesc=graphics%2Cgraphics+card'"
   ]
  },
  {
   "cell_type": "markdown",
   "metadata": {},
   "source": [
    "### Grabbing the page from the url above"
   ]
  },
  {
   "cell_type": "code",
   "execution_count": 4,
   "metadata": {},
   "outputs": [],
   "source": [
    "uClient = urlReq(my_url)"
   ]
  },
  {
   "cell_type": "code",
   "execution_count": 5,
   "metadata": {},
   "outputs": [],
   "source": [
    "page_html = uClient.read()"
   ]
  },
  {
   "cell_type": "code",
   "execution_count": 6,
   "metadata": {},
   "outputs": [],
   "source": [
    "uClient.close()"
   ]
  },
  {
   "cell_type": "markdown",
   "metadata": {},
   "source": [
    "### html parser"
   ]
  },
  {
   "cell_type": "code",
   "execution_count": 7,
   "metadata": {},
   "outputs": [],
   "source": [
    "page_soup=soup(page_html, \"html.parser\" )"
   ]
  },
  {
   "cell_type": "code",
   "execution_count": 8,
   "metadata": {},
   "outputs": [
    {
     "data": {
      "text/plain": [
       "<h1 class=\"header2021-logo\"><a class=\"header2021-logo-img\" href=\"https://www.newegg.com/\" title=\"Newegg.com - Computer Parts, Laptops, Electronics, HDTVs, Digital Cameras and More!\"><img alt=\"Newegg\" src=\"https://c1.neweggimages.com/WebResource/Themes/Nest/logos/Newegg_full_color_logo_RGB.SVG\"/></a></h1>"
      ]
     },
     "execution_count": 8,
     "metadata": {},
     "output_type": "execute_result"
    }
   ],
   "source": [
    "page_soup.h1"
   ]
  },
  {
   "cell_type": "markdown",
   "metadata": {},
   "source": [
    "### grabbing p elements"
   ]
  },
  {
   "cell_type": "code",
   "execution_count": 9,
   "metadata": {},
   "outputs": [
    {
     "data": {
      "text/plain": [
       "<p class=\"item-promo\"><i class=\"item-promo-icon\"></i>Limited time offer, ends 01/23</p>"
      ]
     },
     "execution_count": 9,
     "metadata": {},
     "output_type": "execute_result"
    }
   ],
   "source": [
    "page_soup.p"
   ]
  },
  {
   "cell_type": "markdown",
   "metadata": {},
   "source": [
    "### grabbing each products div element which includes all the descriptions and the image."
   ]
  },
  {
   "cell_type": "code",
   "execution_count": null,
   "metadata": {},
   "outputs": [],
   "source": []
  },
  {
   "cell_type": "code",
   "execution_count": 118,
   "metadata": {},
   "outputs": [],
   "source": [
    "containers = page_soup.select('div.item-container:not(:has(.item-sponsored))')"
   ]
  },
  {
   "cell_type": "code",
   "execution_count": 119,
   "metadata": {},
   "outputs": [
    {
     "data": {
      "text/plain": [
       "40"
      ]
     },
     "execution_count": 119,
     "metadata": {},
     "output_type": "execute_result"
    }
   ],
   "source": [
    "len(containers)"
   ]
  },
  {
   "cell_type": "markdown",
   "metadata": {},
   "source": [
    "### Prototyping for our for loop\n",
    "## --------------------------------------------------------------------------------------------------------------------------------"
   ]
  },
  {
   "cell_type": "code",
   "execution_count": 108,
   "metadata": {},
   "outputs": [],
   "source": [
    "container_title = container.findAll(\"a\",{\"class\":\"item-title\"})"
   ]
  },
  {
   "cell_type": "code",
   "execution_count": 109,
   "metadata": {},
   "outputs": [
    {
     "data": {
      "text/plain": [
       "[<a class=\"item-title\" href=\"https://www.newegg.com/zotac-geforce-rtx-3060-zt-a30600h-10m/p/N82E16814500508?Description=graphics&amp;cm_re=graphics-_-14-500-508-_-Product\" title=\"View Details\">ZOTAC GAMING GeForce RTX 3060 Twin Edge OC 12GB GDDR6 192-bit 15 Gbps PCIE 4.0 Gaming Graphics Card, IceStorm 2.0 Cooling, Active Fan Control, FREEZE Fan Stop ZT-A30600H-10M</a>]"
      ]
     },
     "execution_count": 109,
     "metadata": {},
     "output_type": "execute_result"
    }
   ],
   "source": [
    "container_title"
   ]
  },
  {
   "cell_type": "code",
   "execution_count": 110,
   "metadata": {},
   "outputs": [
    {
     "data": {
      "text/plain": [
       "'ZOTAC GAMING GeForce RTX 3060 Twin Edge OC 12GB GDDR6 192-bit 15 Gbps PCIE 4.0 Gaming Graphics Card, IceStorm 2.0 Cooling, Active Fan Control, FREEZE Fan Stop ZT-A30600H-10M'"
      ]
     },
     "execution_count": 110,
     "metadata": {},
     "output_type": "execute_result"
    }
   ],
   "source": [
    "container_title[0].text"
   ]
  },
  {
   "cell_type": "code",
   "execution_count": 111,
   "metadata": {},
   "outputs": [
    {
     "data": {
      "text/plain": [
       "'Asus TUF Gaming GeForce GTX 1650 Super Overclocked 4GB Edition HDMI DP DVI Gaming Graphics Card (TUF-GTX1650S-O4G-GAMING)'"
      ]
     },
     "execution_count": 111,
     "metadata": {},
     "output_type": "execute_result"
    }
   ],
   "source": [
    "containers[33].findAll(\"a\",{\"class\":\"item-title\"})[0].text"
   ]
  },
  {
   "cell_type": "code",
   "execution_count": 168,
   "metadata": {},
   "outputs": [],
   "source": [
    "container_price = container.findAll(\"li\",{\"class\":\"price-current\"})"
   ]
  },
  {
   "cell_type": "code",
   "execution_count": 171,
   "metadata": {},
   "outputs": [
    {
     "data": {
      "text/plain": [
       "'1399'"
      ]
     },
     "execution_count": 171,
     "metadata": {},
     "output_type": "execute_result"
    }
   ],
   "source": [
    "container_price[0].strong.text.replace(',', '')"
   ]
  },
  {
   "cell_type": "markdown",
   "metadata": {},
   "source": [
    "### To save our results into a csv file we should open a file handler."
   ]
  },
  {
   "cell_type": "code",
   "execution_count": 206,
   "metadata": {},
   "outputs": [
    {
     "data": {
      "text/plain": [
       "20"
      ]
     },
     "execution_count": 206,
     "metadata": {},
     "output_type": "execute_result"
    }
   ],
   "source": [
    "filename = \"Items.CSV\"\n",
    "f = open(filename, \"w\")\n",
    "headers = \"Product_name, Price\\n\"\n",
    "f.write(headers)"
   ]
  },
  {
   "cell_type": "markdown",
   "metadata": {},
   "source": [
    "## ------------------------------------------------------------------------------------------------------------------------------\n",
    "\n",
    "### My for loop to scrapp the informations that I want "
   ]
  },
  {
   "cell_type": "code",
   "execution_count": 207,
   "metadata": {},
   "outputs": [
    {
     "name": "stdout",
     "output_type": "stream",
     "text": [
      "Container_tilte:  MSI Mech Radeon RX 6700 XT Video Card RX 6700 XT MECH 2X 12G OC    price:   899\n",
      "Container_tilte:  ASRock Radeon RX 6800 XT Phantom Gaming D Gaming Graphics Card with 16GB GDDR6, AMD RDNA 2 (RX6800XT PGD 16GO)    price:   1399\n",
      "Container_tilte:  ASUS GeForce GT 730 Video Card for Silent HTPC Builds (with I/O Port Brackets) GT730-SL-2GD5-BRK    price:   68\n",
      "Container_tilte:  Yeston Radeon RX6700XT 12GB D6 GDDR6 192bit 7nm Desktop computer PC Video Graphics Cards support PCI-Express 4.0 3*DP+1*HDMI-compatible   RGB light effect Fragrant graphics card    price:   1079\n",
      "Container_tilte:  Yeston GeForce GT730 4GB DDR3 Graphics cards Nvidia PCI Express 2.0 Desktop computer PC DVI-D +VGA+ HDMI-compatible video gaming graphics card    price:   109\n",
      "Container_tilte:  Yeston GeForce GT 1030 4GB DDR4 Graphics cards Nvidia pci express 3.0 Desktop computer PC video gaming graphics card    price:   159\n",
      "Container_tilte:  ZOTAC GAMING GeForce RTX 3070 Twin Edge OC White Edition LHR ZT-A30700J-10PLHR 8GB GDDR6X 384 Bit 1755 MHz 14 Gbps 3DP HDMI Graphic Card    price:   1199\n",
      "Container_tilte:  Yeston Radeon RX6800 16GB D6 GDDR6 256bit 7nm Desktop computer PC Video Graphics Cards support PCI-Express 4.0 3*DP+1*HDMI-compatible graphics card    price:   1369\n",
      "Container_tilte:  GIGABYTE Radeon RX 6600 EAGLE 8G Graphics Card, WINDFORCE 3X Cooling System, 8GB 128-bit GDDR6, GV-R66EAGLE-8GD Video Card    price:   631\n",
      "Container_tilte:  ASUS Dual GeForce RTX 2060 Advanced OC EVO Graphics Card 6GB 192-Bit GDDR6 PCIe 3.0 x16 DirectX 12 HDCP Ready Auto-Extreme Technology 1x DVI-D 2X HDMI 2.0b 1x DisplayPort 1.4,(DUAL-RTX2060-O6G-EVO)    price:   634\n",
      "Container_tilte:  ASUS GeForce RTX 2060 Overclocked 6G GDDR6 Dual-Fan EVO Edition VR Ready HDMI DisplayPort DVI Graphics Card (DUAL-RTX2060-O6G-EVO)    price:   673\n",
      "Container_tilte:  ASUS TUF Gaming NVIDIA GeForce RTX 3080 V2 OC Edition Graphics Card (PCIe 4.0, 10GB GDDR6X, LHR, HDMI 2.1, DisplayPort 1.4a, Dual Ball Fan Bearings, Military-grade Certification, GPU Tweak II)    price:   1617\n",
      "Container_tilte:  ASUS GeForce GTX 1050 Ti 4GB PHOENIX Fan Edition DVI-D HDMI DP 1.4 Gaming Graphics Card (PH-GTX1050Ti-4G)    price:   279\n",
      "Container_tilte:  ZOTAC GAMING GeForce GTX 1650 OC 4GB GDDR6 128-bit Gaming Graphics Card, Super Compact, ZT-T16520F-10L    price:   334\n",
      "Container_tilte:  Yeston GeForce GT 1030 4GB DDR4 LP Graphics cards Nvidia pci express 3.0 Included Low Profile Bracket Single slot graphics card Desktop computer PC video gaming graphics card    price:   159\n",
      "Container_tilte:  ASRock Radeon RX 6900 XT PHANTOM GAMING D Graphics Card 16GB GDDR6, AMD RDNA2 (RX6900XT PGD 16GO)    price:   1499\n",
      "Container_tilte:  ASUS ROG Strix NVIDIA GeForce RTX 3080 Ti OC Edition Gaming Graphics Card (PCIe 4.0, 12GB GDDR6X, HDMI 2.1, Axial-tech Fan Design, 2.9-Slot, Super Alloy Power II, ASUS Auto-Extreme Technology)    price:   2523\n",
      "Container_tilte:  GIGABYTE Radeon RX 6600 XT GAMING OC PRO 8G Graphics Card, WINDFORCE 3X Cooling System, 8GB 128-bit GDDR6, GV-R66XTGAMINGOC PRO-8GD Video Card    price:   754\n",
      "Container_tilte:  GIGABYTE GeForce RTX 3060 EAGLE 12G Graphics Card, 2 x WINDFORCE Fans, 12GB 192-bit GDDR6, GV-N3060EAGLE OC-12GD (rev. 2.0) (LHR) Video Card    price:   764\n",
      "Container_tilte:  ASUS Gaming GeForce GTX 1660 SUPER Overclocked 6GB Dual-fan Edition HDMI DP DVI Gaming Graphics Card (GTX1660S-O6G-GAMING)    price:   599\n",
      "Container_tilte:  GIGABYTE Radeon RX 6700 XT GAMING OC 12G Graphics Card, WINDFORCE 3X Cooling System, 12GB 192-bit GDDR6, GV-R67XTGAMING OC-12GD Video Card    price:   959\n",
      "Container_tilte:  XFX SPEEDSTER QICK319 AMD Radeon RX 6700 XT BLACK Gaming Graphics Card with 12GB GDDR6, HDMI 3 x DP, AMD RDNA 2    price:   988\n",
      "Container_tilte:  XFX SPEEDSTER SWFT210 Radeon RX 6600 XT 8GB GDDR6 PCI Express 4.0 Core Gaming Graphics Card, AMD RDNA 2 RX-66XT8DFDQ    price:   629\n",
      "Container_tilte:  ZOTAC GAMING GeForce RTX 3060 Twin Edge OC 12GB GDDR6 192-bit 15 Gbps PCIE 4.0 Gaming Graphics Card, IceStorm 2.0 Cooling, Active Fan Control, FREEZE Fan Stop ZT-A30600H-10M    price:   798\n",
      "Container_tilte:  ZOTAC GAMING GeForce RTX 3070 Ti Trinity OC 8GB GDDR6X 256-bit 19 Gbps PCIE 4.0 Gaming Graphics Card, IceStorm 2.0 Advanced Cooling, SPECTRA 2.0 RGB Lighting, ZT-A30710J-10P    price:   1349\n",
      "Container_tilte:  Sapphire NITRO+ AMD RADEON RX 6900 XT SE GAMING OC Graphics Card With 16GB GDDR6 HDMI / TRIPLE DP    price:   1869\n",
      "Container_tilte:  GIGABYTE Radeon RX 6800 XT GAMING OC 16G Graphics Card, WINDFORCE 3X Cooling System, 16GB 256-bit GDDR6, GV-R68XTGAMING OC-16GD Video Card, Powered by AMD RDNA 2, HDMI 2.1    price:   1319\n",
      "Container_tilte:  ZOTAC GAMING GeForce GTX 1660 6GB GDDR5 192-bit Gaming Graphics Card, Super Compact, ZT-T16600K-10M    price:   529\n",
      "Container_tilte:  Dell Optiplex 740 750 3010 3020 7010 7020 9010 9020 SFF GT 610 1GB PCI Express 2.0 x16 DVI+HDMI Single Slot Low Profile Video Graphics Card    price:   60\n",
      "Container_tilte:  GIGABYTE GeForce RTX 3060 VISION OC 12G Graphics Card, 3 x WINDFORCE Fans, 12GB 192-bit GDDR6, GV-N3060VISION OC-12GD Video Card    price:   815\n",
      "Container_tilte:  GIGABYTE Radeon RX 6800 GAMING OC 16G Graphics Card, WINDFORCE 3X Cooling System, 16GB 256-bit GDDR6, GV-R68GAMING OC-16GD Video Card, Powered by AMD RDNA 2, HDMI 2.1    price:   1549\n",
      "Container_tilte:  GIGABYTE GeForce RTX 3060 GAMING OC 12G Graphics Card, 3 x WINDFORCE Fans, 12GB 192-bit GDDR6, GV-N3060GAMING OC-12GD Video Card    price:   784\n",
      "Container_tilte:  Yeston GeForce GT730 4GB DDR3 Graphics cards Nvidia PCI Express 2.0 Desktop computer PC DVI-D +VGA+ HDMI-compatible video gaming graphics card    price:   99\n",
      "Container_tilte:  Asus TUF Gaming GeForce GTX 1650 Super Overclocked 4GB Edition HDMI DP DVI Gaming Graphics Card (TUF-GTX1650S-O4G-GAMING)    price:   570\n",
      "Container_tilte:  MSI Gaming GeForce RTX 3080 10GB GDDR6X PCI Express 4.0 ATX Video Card RTX 3080 GAMING Z TRIO 10G LHR    price:   1618\n",
      "Container_tilte:  GIGABYTE GeForce GT 730 GV-N730D3-2GI (rev. 3.0) Graphics Card, 2GB 64-bit GDDR3, GV-N730D3-2GI REV3.0 Video Card    price:   88\n",
      "Container_tilte:  Yeston Radeon RX 550 4G D5 TF Gaming Graphics Card Video Card GPU Fan Edition, 4G/128bit/GDDR5 PCI-Express 3.0x8 ,DVI-D+HDMI+DP desktop PC Graphics Card (RX550-4G D5 TD)    price:   179\n",
      "Container_tilte:  ASUS GeForce RTX 2060 DUAL EVO 6 GB GDDR6 Graphics Card (DUAL-RTX2060-6G-EVO)    price:   666\n",
      "Container_tilte:  ASUS Dual Radeon RX 6700 XT OC Edition 12GB GDDR6 Gaming Graphics Card (AMD RDNA 2, PCIe 4.0, 12GB GDDR6, HDMI 2.1, DisplayPort 1.4a, Axial-tech Fan Design, 0dB Technology) DUAL-RX6700XT-O12G    price:   959\n",
      "Container_tilte:  GIGABYTE GeForce GTX 1660 Ti OC 6G Graphics Card, 2 x WINDFORCE Fans, 6GB 192-Bit GDDR6, GV-N166TOC-6GD Video Card    price:   625\n"
     ]
    }
   ],
   "source": [
    "for i in range(40):\n",
    "    container = containers[i]\n",
    "    container_title=container.findAll(\"a\",{\"class\":\"item-title\"})[0].text\n",
    "    price=container.findAll(\"li\",{\"class\":\"price-current\"})\n",
    "    Container_price=price[0].strong.text.replace(',', '')\n",
    "    #print(\"Container_tilte: \", container_title , \"   price:  \" , Container_price )\n",
    "    \n",
    "    f.write(container_title.replace(\",\",\"|\") +\",\"+ Container_price +\"\\n\")\n",
    "    "
   ]
  },
  {
   "cell_type": "code",
   "execution_count": 208,
   "metadata": {},
   "outputs": [],
   "source": [
    "f.close()"
   ]
  },
  {
   "cell_type": "code",
   "execution_count": null,
   "metadata": {},
   "outputs": [],
   "source": []
  }
 ],
 "metadata": {
  "kernelspec": {
   "display_name": "Python 3",
   "language": "python",
   "name": "python3"
  },
  "language_info": {
   "codemirror_mode": {
    "name": "ipython",
    "version": 3
   },
   "file_extension": ".py",
   "mimetype": "text/x-python",
   "name": "python",
   "nbconvert_exporter": "python",
   "pygments_lexer": "ipython3",
   "version": "3.8.5"
  }
 },
 "nbformat": 4,
 "nbformat_minor": 4
}
